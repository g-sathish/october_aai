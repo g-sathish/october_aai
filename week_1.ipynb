{
 "cells": [
  {
   "cell_type": "markdown",
   "metadata": {},
   "source": [
    "### AAI Week I"
   ]
  },
  {
   "cell_type": "code",
   "execution_count": 1,
   "metadata": {},
   "outputs": [],
   "source": [
    "import requests\n",
    "from bs4 import BeautifulSoup"
   ]
  },
  {
   "cell_type": "code",
   "execution_count": 2,
   "metadata": {},
   "outputs": [],
   "source": [
    "url = 'https://www.npr.org/sections/music-reviews/'"
   ]
  },
  {
   "cell_type": "code",
   "execution_count": 3,
   "metadata": {},
   "outputs": [],
   "source": [
    "response = requests.get(url)"
   ]
  },
  {
   "cell_type": "code",
   "execution_count": 4,
   "metadata": {},
   "outputs": [
    {
     "data": {
      "text/plain": [
       "<Response [200]>"
      ]
     },
     "execution_count": 4,
     "metadata": {},
     "output_type": "execute_result"
    }
   ],
   "source": [
    "response"
   ]
  },
  {
   "cell_type": "code",
   "execution_count": 5,
   "metadata": {},
   "outputs": [],
   "source": [
    "soup = BeautifulSoup(response.text, 'lxml')"
   ]
  },
  {
   "cell_type": "code",
   "execution_count": 7,
   "metadata": {},
   "outputs": [
    {
     "data": {
      "text/plain": [
       "'\\n   try {var _sf_startpt=(new Date()).getTime();} catch(e){}\\n\\nMusic Reviews : NPR\\n   window.NPR = wi'"
      ]
     },
     "execution_count": 7,
     "metadata": {},
     "output_type": "execute_result"
    }
   ],
   "source": [
    "soup.text[:100]"
   ]
  },
  {
   "cell_type": "code",
   "execution_count": 8,
   "metadata": {},
   "outputs": [
    {
     "data": {
      "text/plain": [
       "<h2 class=\"title\"><a data-metrics='{\"action\":\"Click Story Title\",\"category\":\"Story List\"}' href=\"https://www.npr.org/2020/10/07/920893847/savage-mode-2-is-a-rare-covid-19-era-blockbuster-sequel\">'Savage Mode II' Is A Rare COVID-19 Era Blockbuster Sequel</a></h2>"
      ]
     },
     "execution_count": 8,
     "metadata": {},
     "output_type": "execute_result"
    }
   ],
   "source": [
    "soup.find('h2')"
   ]
  },
  {
   "cell_type": "code",
   "execution_count": 10,
   "metadata": {},
   "outputs": [],
   "source": [
    "articles = soup.find_all('article')"
   ]
  },
  {
   "cell_type": "code",
   "execution_count": 11,
   "metadata": {},
   "outputs": [
    {
     "data": {
      "text/plain": [
       "28"
      ]
     },
     "execution_count": 11,
     "metadata": {},
     "output_type": "execute_result"
    }
   ],
   "source": [
    "len(articles)"
   ]
  },
  {
   "cell_type": "code",
   "execution_count": null,
   "metadata": {},
   "outputs": [],
   "source": []
  },
  {
   "cell_type": "code",
   "execution_count": 16,
   "metadata": {},
   "outputs": [],
   "source": [
    "first_article_a = articles[0].find('a')"
   ]
  },
  {
   "cell_type": "code",
   "execution_count": 17,
   "metadata": {},
   "outputs": [
    {
     "data": {
      "text/plain": [
       "<a data-metrics='{\"action\":\"Click Story Image\",\"category\":\"Story List\"}' href=\"https://www.npr.org/2020/10/07/920893847/savage-mode-2-is-a-rare-covid-19-era-blockbuster-sequel\">\n",
       "<img alt=\"'Savage Mode II' Is A Rare COVID-19 Era Blockbuster Sequel\" class=\"respArchListImg lazyOnLoad\" data-original=\"https://media.npr.org/assets/img/2020/10/07/gettyimages-1182091041_wide-dce160b5cfd37178e9768a17e4e666f613466d35-s300.jpg\" loading=\"lazy\" src=\"https://media.npr.org/assets/img/2020/10/07/gettyimages-1182091041_wide-dce160b5cfd37178e9768a17e4e666f613466d35-s300-c15.jpg\"/>\n",
       "</a>"
      ]
     },
     "execution_count": 17,
     "metadata": {},
     "output_type": "execute_result"
    }
   ],
   "source": [
    "first_article_a"
   ]
  },
  {
   "cell_type": "code",
   "execution_count": 18,
   "metadata": {},
   "outputs": [
    {
     "data": {
      "text/plain": [
       "'https://www.npr.org/2020/10/07/920893847/savage-mode-2-is-a-rare-covid-19-era-blockbuster-sequel'"
      ]
     },
     "execution_count": 18,
     "metadata": {},
     "output_type": "execute_result"
    }
   ],
   "source": [
    "first_article_a.attrs['href']"
   ]
  },
  {
   "cell_type": "code",
   "execution_count": 19,
   "metadata": {},
   "outputs": [],
   "source": [
    "response_2 = requests.get(first_article_a.attrs['href'])"
   ]
  },
  {
   "cell_type": "code",
   "execution_count": 20,
   "metadata": {},
   "outputs": [
    {
     "data": {
      "text/plain": [
       "<Response [200]>"
      ]
     },
     "execution_count": 20,
     "metadata": {},
     "output_type": "execute_result"
    }
   ],
   "source": [
    "response_2"
   ]
  },
  {
   "cell_type": "code",
   "execution_count": 21,
   "metadata": {},
   "outputs": [],
   "source": [
    "soup2 = BeautifulSoup(response_2.text, 'lxml')"
   ]
  },
  {
   "cell_type": "code",
   "execution_count": 22,
   "metadata": {},
   "outputs": [],
   "source": [
    "review = soup2.find_all('p')"
   ]
  },
  {
   "cell_type": "code",
   "execution_count": 26,
   "metadata": {},
   "outputs": [],
   "source": [
    "review_text = [''.join(i.text) for i in review]"
   ]
  },
  {
   "cell_type": "code",
   "execution_count": 56,
   "metadata": {},
   "outputs": [],
   "source": [
    "#make request of main page\n",
    "rev_dict = {}\n",
    "url = 'https://www.npr.org/sections/music-reviews/'\n",
    "response = requests.get(url)\n",
    "soup = BeautifulSoup(response.text, 'lxml')\n",
    "#grab individual review boxes\n",
    "articles = soup.find_all('article')\n",
    "titles = soup.find_all('h2')\n",
    "title_texts = [i.text for i in titles]\n",
    "full_urls = [art.find('a').attrs['href'] for art in articles]"
   ]
  },
  {
   "cell_type": "code",
   "execution_count": 57,
   "metadata": {},
   "outputs": [],
   "source": [
    "#extract review full url\n",
    "for title, url in zip(titles[:3], full_urls[:3]):\n",
    "    #make request of that url\n",
    "    r = requests.get(url)\n",
    "    soupp = BeautifulSoup(r.text, 'lxml')\n",
    "    #get the text from that\n",
    "    review = soupp.find_all('p')\n",
    "    review_text = [''.join(i.text) for i in review]\n",
    "    rev_dict[title.a.text] = review_text"
   ]
  },
  {
   "cell_type": "code",
   "execution_count": 59,
   "metadata": {},
   "outputs": [],
   "source": [
    "import pandas as pd"
   ]
  },
  {
   "cell_type": "code",
   "execution_count": 61,
   "metadata": {},
   "outputs": [
    {
     "data": {
      "text/plain": [
       "dict_keys([\"'Savage Mode II' Is A Rare COVID-19 Era Blockbuster Sequel\", \"Mariah Carey's 'Rarities' Illuminate Pop Music's Evolution\", \"Sarah Kirkland Snider's Mass, Rebooted For The 21st Century\"])"
      ]
     },
     "execution_count": 61,
     "metadata": {},
     "output_type": "execute_result"
    }
   ],
   "source": [
    "rev_dict.keys()"
   ]
  },
  {
   "cell_type": "code",
   "execution_count": 64,
   "metadata": {},
   "outputs": [],
   "source": [
    "# !pip install textblob\n",
    "from textblob import TextBlob"
   ]
  },
  {
   "cell_type": "code",
   "execution_count": 73,
   "metadata": {},
   "outputs": [],
   "source": [
    "ans = ''\n",
    "for sent in rev_dict[\"'Savage Mode II' Is A Rare COVID-19 Era Blockbuster Sequel\"]:\n",
    "    ans += sent"
   ]
  },
  {
   "cell_type": "code",
   "execution_count": 75,
   "metadata": {},
   "outputs": [
    {
     "data": {
      "text/plain": [
       "'\\n\\n      Ch'"
      ]
     },
     "execution_count": 75,
     "metadata": {},
     "output_type": "execute_result"
    }
   ],
   "source": [
    "ans[:10]"
   ]
  },
  {
   "cell_type": "code",
   "execution_count": 76,
   "metadata": {},
   "outputs": [],
   "source": [
    "blob = TextBlob(ans)"
   ]
  },
  {
   "cell_type": "code",
   "execution_count": 78,
   "metadata": {},
   "outputs": [
    {
     "data": {
      "text/plain": [
       "0.0918337728682556"
      ]
     },
     "execution_count": 78,
     "metadata": {},
     "output_type": "execute_result"
    }
   ],
   "source": [
    "blob.polarity"
   ]
  },
  {
   "cell_type": "code",
   "execution_count": 79,
   "metadata": {},
   "outputs": [
    {
     "data": {
      "text/plain": [
       "0.4259325604153192"
      ]
     },
     "execution_count": 79,
     "metadata": {},
     "output_type": "execute_result"
    }
   ],
   "source": [
    "blob.subjectivity"
   ]
  },
  {
   "cell_type": "code",
   "execution_count": 80,
   "metadata": {},
   "outputs": [],
   "source": [
    "polarities = []\n",
    "subjectivities = []"
   ]
  },
  {
   "cell_type": "code",
   "execution_count": 81,
   "metadata": {},
   "outputs": [],
   "source": [
    "for rev in rev_dict:\n",
    "    ans = ''\n",
    "    for sent in rev_dict[rev]:\n",
    "        ans += sent\n",
    "    blob = TextBlob(ans)\n",
    "    subjectivities.append(blob.subjectivity)\n",
    "    polarities.append(blob.polarity)"
   ]
  },
  {
   "cell_type": "code",
   "execution_count": 83,
   "metadata": {},
   "outputs": [
    {
     "data": {
      "text/plain": [
       "[0.4259325604153192, 0.44606395918895914, 0.39980175127902395]"
      ]
     },
     "execution_count": 83,
     "metadata": {},
     "output_type": "execute_result"
    }
   ],
   "source": [
    "subjectivities"
   ]
  },
  {
   "cell_type": "code",
   "execution_count": 82,
   "metadata": {},
   "outputs": [
    {
     "data": {
      "text/plain": [
       "[0.0918337728682556, 0.16327010952010945, 0.13554604486422667]"
      ]
     },
     "execution_count": 82,
     "metadata": {},
     "output_type": "execute_result"
    }
   ],
   "source": [
    "polarities"
   ]
  },
  {
   "cell_type": "code",
   "execution_count": 84,
   "metadata": {},
   "outputs": [],
   "source": [
    "ex = 'This album really is the worst.  I hate it, think it is terrible, and would not make my worst enemy listen to such trash.'"
   ]
  },
  {
   "cell_type": "code",
   "execution_count": 85,
   "metadata": {},
   "outputs": [],
   "source": [
    "b = TextBlob(ex)"
   ]
  },
  {
   "cell_type": "code",
   "execution_count": 86,
   "metadata": {},
   "outputs": [
    {
     "data": {
      "text/plain": [
       "-0.6"
      ]
     },
     "execution_count": 86,
     "metadata": {},
     "output_type": "execute_result"
    }
   ],
   "source": [
    "b.polarity"
   ]
  },
  {
   "cell_type": "code",
   "execution_count": 87,
   "metadata": {},
   "outputs": [],
   "source": [
    "ex2 = 'This album is amazing.  My feet dance, smiles abound, I just want to love the whole world its amazing.'"
   ]
  },
  {
   "cell_type": "code",
   "execution_count": 90,
   "metadata": {},
   "outputs": [],
   "source": [
    "c = TextBlob(ex2)"
   ]
  },
  {
   "cell_type": "code",
   "execution_count": 91,
   "metadata": {},
   "outputs": [
    {
     "data": {
      "text/plain": [
       "0.47500000000000003"
      ]
     },
     "execution_count": 91,
     "metadata": {},
     "output_type": "execute_result"
    }
   ],
   "source": [
    "c.polarity"
   ]
  },
  {
   "cell_type": "code",
   "execution_count": 42,
   "metadata": {},
   "outputs": [
    {
     "data": {
      "text/plain": [
       "<h2 class=\"title\"><a data-metrics='{\"action\":\"Click Story Title\",\"category\":\"Story List\"}' href=\"https://www.npr.org/2020/10/07/920893847/savage-mode-2-is-a-rare-covid-19-era-blockbuster-sequel\">'Savage Mode II' Is A Rare COVID-19 Era Blockbuster Sequel</a></h2>"
      ]
     },
     "execution_count": 42,
     "metadata": {},
     "output_type": "execute_result"
    }
   ],
   "source": [
    "titles[0]"
   ]
  },
  {
   "cell_type": "code",
   "execution_count": null,
   "metadata": {},
   "outputs": [],
   "source": [
    "from vader.sentiment import SentimentIntensityAnalyzer"
   ]
  },
  {
   "cell_type": "code",
   "execution_count": null,
   "metadata": {},
   "outputs": [],
   "source": [
    "analyzer = SentimentIntensityAnalyzer()\n",
    "for sentence in sentences:\n",
    "    vs = analyzer.polarity_scores(sentence)\n",
    "    print(\"{:-<65} {}\".format(sentence, str(vs)))"
   ]
  },
  {
   "cell_type": "code",
   "execution_count": null,
   "metadata": {},
   "outputs": [],
   "source": []
  },
  {
   "cell_type": "code",
   "execution_count": null,
   "metadata": {},
   "outputs": [],
   "source": []
  },
  {
   "cell_type": "code",
   "execution_count": 32,
   "metadata": {},
   "outputs": [
    {
     "data": {
      "text/plain": [
       "[\"'Savage Mode II' Is A Rare COVID-19 Era Blockbuster Sequel\",\n",
       " \"Mariah Carey's 'Rarities' Illuminate Pop Music's Evolution\",\n",
       " \"Sarah Kirkland Snider's Mass, Rebooted For The 21st Century\",\n",
       " \"Sufjan Stevens' Fifty States Of Grey\",\n",
       " \"Ruston Kelly's Redemption, In A Constant State Of 'Shape & Destroy'\",\n",
       " 'Micah Thomas Is A Jazz Pianist With A Lot Of Runway',\n",
       " 'WBGO',\n",
       " \"'Black Is King': A Beyoncé Film With A Disney Twist\",\n",
       " \"Beyoncé's 'Black Is King' Is A Sumptuous Search For Divine Identity\",\n",
       " \"The Met Opera's Live Streaming Series Sticks To Old Trappings\",\n",
       " \"Taylor Swift's Isolation And Artistry Fuel 'Folklore'\",\n",
       " \"Composer Maria Schneider Returns, With A Reckoning, On 'Data Lords'\",\n",
       " 'WBGO',\n",
       " \"Asher Gamedze's Astral Jazz Will Carry Your Soul To Utopia\",\n",
       " \"'Gaslighter': The Chicks After The Fire\",\n",
       " \"Arthur Jafa's Glorious Vision And Kanye West's Gilded Faith\",\n",
       " \"Pop Smoke's First And Final Album Falls Between Two Worlds\",\n",
       " \"'Hamilton' Comes Home, Just In Time For The Fourth Of July\",\n",
       " \"Someone Finally Remembered William Dawson's 'Negro Folk Symphony'\",\n",
       " \"Chloe x Halle Have Taken Beyoncé's Most Important Lesson To Heart\",\n",
       " \"SAULT's 'UNTITLED' Lights Up The Full Spectrum Of Blackness\",\n",
       " 'How Gia Margaret Lost Her Voice And Reassembled Her Songwriting Identity',\n",
       " 'RMR, Pre-Fabulous Breakout Of The Year, Is Nothing But Smiles',\n",
       " 'Freddie Gibbs And The Alchemist Perfect The Rap Duo Recipe ']"
      ]
     },
     "execution_count": 32,
     "metadata": {},
     "output_type": "execute_result"
    }
   ],
   "source": [
    "title_texts"
   ]
  },
  {
   "cell_type": "code",
   "execution_count": 28,
   "metadata": {},
   "outputs": [
    {
     "data": {
      "text/plain": [
       "['https://www.npr.org/2020/10/07/920893847/savage-mode-2-is-a-rare-covid-19-era-blockbuster-sequel',\n",
       " 'https://www.npr.org/2020/10/06/920499351/mariah-careys-rarities-illuminate-pop-music-s-evolution',\n",
       " 'https://www.npr.org/sections/deceptivecadence/2020/09/28/908029027/sarah-kirkland-sniders-mass-rebooted-for-the-21st-century',\n",
       " 'https://ondemand.npr.org/anon.npr-mp3/npr/atc/2020/09/20200928_atc_sarah_kirkland_sniders_mass_rebooted_for_the_21st_century.mp3?orgId=1&topicId=1104&d=233&p=2&story=908029027&dl=1&siteplayer=true&size=3731316&dl=1',\n",
       " 'https://www.npr.org/2020/09/24/916525319/sufjan-stevens-fifty-states-of-grey',\n",
       " 'https://www.npr.org/2020/08/28/906784423/ruston-kellys-redemption-in-a-constant-state-of-shape-destroy',\n",
       " 'https://www.npr.org/2020/08/10/900582409/micah-thomas-is-a-jazz-pianist-with-a-lot-of-runway',\n",
       " 'https://ondemand.npr.org/anon.npr-mp3/npr/me/2020/08/20200810_me_micah_thomas_is_a_jazz_pianist_with_a_lot_of_runway.mp3?orgId=313&topicId=1039&d=203&p=3&story=900582409&dl=1&siteplayer=true&size=3244677&dl=1',\n",
       " 'https://www.npr.org/2020/07/31/897692607/black-is-king-a-beyonc-film-with-a-disney-twist',\n",
       " 'https://play.podtrac.com/510282/edge1.pod.npr.org/anon.npr-podcasts/podcast/npr/pchh/2020/08/20200805_pchh_pchh_200805_black_is_king_final_bnc-b358e860-1d58-4f6f-a466-ebde06eb23c5.mp3?orgId=1&topicId=1039&aggIds=93568166&d=1082&p=510282&story=897692607&t=podcast&e=897692607&dl=1&siteplayer=true&size=17280269&awCollectionId=510282&awEpisodeId=897692607&dl=1',\n",
       " 'https://www.npr.org/2020/08/04/898881279/beyonce-black-is-king-review-searches',\n",
       " 'https://www.npr.org/sections/deceptivecadence/2020/08/04/898634590/the-met-operas-live-streaming-series-sticks-to-old-trappings',\n",
       " 'https://www.npr.org/2020/07/23/894667431/taylor-swifts-isolation-and-artistry-fuel-folklore',\n",
       " 'https://play.podtrac.com/510282/edge1.pod.npr.org/anon.npr-podcasts/podcast/npr/pchh/2020/07/20200729_pchh_pchh_200729_taylor_swift_final_v2_bnc-972f0733-344d-41e4-a752-322d5a7d7d1a.mp3?orgId=1&topicId=1104&aggIds=93568166&d=1234&p=510282&story=894667431&t=podcast&e=894667431&dl=1&siteplayer=true&size=19710128&awCollectionId=510282&awEpisodeId=894667431&dl=1',\n",
       " 'https://www.npr.org/2020/07/24/894686507/composer-maria-schneider-returns-with-a-reckoning-on-data-lords',\n",
       " 'https://www.npr.org/2020/07/20/892400557/asher-gamedzes-astral-jazz-will-carry-your-soul-to-utopia',\n",
       " 'https://www.npr.org/2020/07/16/891812481/the-chicks-after-the-fire',\n",
       " 'https://www.npr.org/2020/07/07/888207995/arthur-jafas-glorious-vision-and-kanye-west-s-gilded-faith',\n",
       " 'https://www.npr.org/2020/07/03/886785596/pop-smokes-first-and-final-album-falls-between-two-worlds',\n",
       " 'https://ondemand.npr.org/anon.npr-mp3/npr/atc/2020/07/20200707_atc_pop_smokes_first_and_final_album_falls_between_two_worlds.mp3?orgId=1&topicId=1104&d=271&p=2&story=886785596&dl=1&siteplayer=true&size=4332213&dl=1',\n",
       " 'https://www.npr.org/2020/06/30/885012751/hamilton-comes-home-just-in-time-for-the-fourth-of-july',\n",
       " 'https://www.npr.org/sections/deceptivecadence/2020/06/26/883011513/someone-finally-remembered-william-dawsons-negro-folk-symphony',\n",
       " 'https://ondemand.npr.org/anon.npr-mp3/npr/atc/2020/06/20200626_atc_someone_finally_remembered_william_dawsons_negro_folk_symphony.mp3?orgId=1&topicId=1104&aggIds=631875330&d=240&p=2&story=883011513&dl=1&siteplayer=true&size=3840570&dl=1',\n",
       " 'https://www.npr.org/2020/06/23/882248630/chloe-x-halle-have-taken-beyonces-most-important-lesson-to-heart',\n",
       " 'https://www.npr.org/2020/06/19/880336898/review-sault-untitled-black-is-lights-up-the-full-spectrum-of-blackness',\n",
       " 'https://www.npr.org/2020/06/15/876090440/how-gia-margaret-lost-her-voice-and-reassembled-her-songwriting-identity',\n",
       " 'https://www.npr.org/2020/06/13/876073848/rmr-pre-fabulous-breakout-of-the-year-is-nothing-but-smiles',\n",
       " 'https://www.npr.org/2020/06/04/869072903/freddie-gibbs-and-the-alchemist-perfect-the-rap-duo-recipe']"
      ]
     },
     "execution_count": 28,
     "metadata": {},
     "output_type": "execute_result"
    }
   ],
   "source": [
    "full_urls"
   ]
  },
  {
   "cell_type": "code",
   "execution_count": null,
   "metadata": {},
   "outputs": [],
   "source": []
  }
 ],
 "metadata": {
  "kernelspec": {
   "display_name": "Python 3",
   "language": "python",
   "name": "python3"
  },
  "language_info": {
   "codemirror_mode": {
    "name": "ipython",
    "version": 3
   },
   "file_extension": ".py",
   "mimetype": "text/x-python",
   "name": "python",
   "nbconvert_exporter": "python",
   "pygments_lexer": "ipython3",
   "version": "3.8.2"
  }
 },
 "nbformat": 4,
 "nbformat_minor": 4
}
